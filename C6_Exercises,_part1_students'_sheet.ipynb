{
  "nbformat": 4,
  "nbformat_minor": 0,
  "metadata": {
    "kernelspec": {
      "display_name": "Python 3",
      "language": "python",
      "name": "python3"
    },
    "language_info": {
      "codemirror_mode": {
        "name": "ipython",
        "version": 3
      },
      "file_extension": ".py",
      "mimetype": "text/x-python",
      "name": "python",
      "nbconvert_exporter": "python",
      "pygments_lexer": "ipython3",
      "version": "3.7.3"
    },
    "colab": {
      "name": "C6 - Exercises, part1 - students' sheet.ipynb",
      "provenance": [],
      "include_colab_link": true
    }
  },
  "cells": [
    {
      "cell_type": "markdown",
      "metadata": {
        "id": "view-in-github",
        "colab_type": "text"
      },
      "source": [
        "<a href=\"https://colab.research.google.com/github/thalesCruz64/BootCamps_Courses/blob/master/C6_Exercises%2C_part1_students'_sheet.ipynb\" target=\"_parent\"><img src=\"https://colab.research.google.com/assets/colab-badge.svg\" alt=\"Open In Colab\"/></a>"
      ]
    },
    {
      "cell_type": "markdown",
      "metadata": {
        "id": "JsY7b6kj2V6n",
        "colab_type": "text"
      },
      "source": [
        "## Python Tutorial\n",
        "\n",
        "\n",
        "Welcome to this Python tutorial. The Jupyter Notebook interface is composed of several cells, in which you can write some code. When you run a cell, the only lines executed are those in the cell. However, they are linked by a single kernel : it means that you can define a variable in a cell and use it in an other.\n",
        "\n",
        "### Variables\n",
        "\n",
        "\n"
      ]
    },
    {
      "cell_type": "markdown",
      "metadata": {
        "id": "67NU_0Ui2V6p",
        "colab_type": "text"
      },
      "source": [
        "To run a cell, select it and press \"execute\", or shift + enter. Try to run the following cell :"
      ]
    },
    {
      "cell_type": "code",
      "metadata": {
        "id": "PBxM8E3x2V6p",
        "colab_type": "code",
        "outputId": "e7562329-200e-4d5a-b9db-5156484568b6",
        "colab": {}
      },
      "source": [
        "print(\"Congratulations\")"
      ],
      "execution_count": 0,
      "outputs": [
        {
          "output_type": "stream",
          "text": [
            "Congratulations\n"
          ],
          "name": "stdout"
        }
      ]
    },
    {
      "cell_type": "markdown",
      "metadata": {
        "id": "NmuKk4R62V6u",
        "colab_type": "text"
      },
      "source": [
        "If your code includes some functions which should display some informations, this information will appear under the box, like with \"Congratulations\" in the previous example.\n",
        "\n",
        "Display the number 13 and the message \"Python is great\""
      ]
    },
    {
      "cell_type": "code",
      "metadata": {
        "id": "zTQun4752V6u",
        "colab_type": "code",
        "colab": {}
      },
      "source": [
        "a=5\n",
        "b=5.2\n",
        "c=3+2j"
      ],
      "execution_count": 0,
      "outputs": []
    },
    {
      "cell_type": "markdown",
      "metadata": {
        "id": "c5mWgnQT2V6w",
        "colab_type": "text"
      },
      "source": [
        "Create the variables a = 5, b = 5.2 and c = 3 + 2j"
      ]
    },
    {
      "cell_type": "code",
      "metadata": {
        "id": "6ZpJfwxc2V6y",
        "colab_type": "code",
        "colab": {
          "base_uri": "https://localhost:8080/",
          "height": 70
        },
        "outputId": "606736ba-1d2c-476b-9fd7-7ba647dcc8bf"
      },
      "source": [
        "print(' The value of a is ' , a,'\\n','The value of b is ' , b,'\\n','The value of c is ' , c)\n"
      ],
      "execution_count": 10,
      "outputs": [
        {
          "output_type": "stream",
          "text": [
            " The value of a is  5 \n",
            " The value of b is  5.2 \n",
            " The value of c is  (3+2j)\n"
          ],
          "name": "stdout"
        }
      ]
    },
    {
      "cell_type": "markdown",
      "metadata": {
        "id": "hNmPf8qQ2V60",
        "colab_type": "text"
      },
      "source": [
        "Display a, b and c with the print function.  \n",
        "They can be displayed with only one call by separating them with commas in the brackets."
      ]
    },
    {
      "cell_type": "markdown",
      "metadata": {
        "id": "_yZ5_7lZ2V63",
        "colab_type": "text"
      },
      "source": [
        "Display a + b and b * c without saving the product in a variable."
      ]
    },
    {
      "cell_type": "code",
      "metadata": {
        "id": "xAe0gdWl2V60",
        "colab_type": "code",
        "colab": {
          "base_uri": "https://localhost:8080/",
          "height": 34
        },
        "outputId": "867140e9-e648-4bf6-df22-55b172965214"
      },
      "source": [
        "a+b\n",
        "b*c"
      ],
      "execution_count": 15,
      "outputs": [
        {
          "output_type": "execute_result",
          "data": {
            "text/plain": [
              "(15.600000000000001+10.4j)"
            ]
          },
          "metadata": {
            "tags": []
          },
          "execution_count": 15
        }
      ]
    },
    {
      "cell_type": "code",
      "metadata": {
        "id": "qvep96yc2V63",
        "colab_type": "code",
        "colab": {}
      },
      "source": [
        "d=7"
      ],
      "execution_count": 0,
      "outputs": []
    },
    {
      "cell_type": "markdown",
      "metadata": {
        "id": "2NImC4Pu2V66",
        "colab_type": "text"
      },
      "source": [
        "\n",
        "Assign the value 7 to d without deleting any letter of the following line"
      ]
    },
    {
      "cell_type": "code",
      "metadata": {
        "id": "u23xsYYT2V67",
        "colab_type": "code",
        "colab": {
          "base_uri": "https://localhost:8080/",
          "height": 158
        },
        "outputId": "b4a4ccaf-3b49-4786-addc-7f0f3721b1f4"
      },
      "source": [
        "d = 34\n",
        "\n",
        "print('type de a+b :',type(a),'\\n','type de a+b :',type(a+b),'\\n','type de a*b :',type(a*b),'\\n','type de b-c :',type(b-c),'\\n','type de a+b+c :',type(a+b+c),'\\n','type de a*c :',type(a*c),'\\n','type de c/a:',type(c/a),'\\n',)"
      ],
      "execution_count": 20,
      "outputs": [
        {
          "output_type": "stream",
          "text": [
            "type de a+b : <class 'int'> \n",
            " type de a+b : <class 'float'> \n",
            " type de a*b : <class 'float'> \n",
            " type de b-c : <class 'complex'> \n",
            " type de a+b+c : <class 'complex'> \n",
            " type de a*c : <class 'complex'> \n",
            " type de c/a: <class 'complex'> \n",
            "\n"
          ],
          "name": "stdout"
        }
      ]
    },
    {
      "cell_type": "markdown",
      "metadata": {
        "id": "Gw57xJvo2V69",
        "colab_type": "text"
      },
      "source": [
        "Check the type of a, b, c, then display and show the type of :  \n",
        "a + b  \n",
        "a * b  \n",
        "b - c  \n",
        "a + b + c  \n",
        "a * c  \n",
        "c / a  "
      ]
    },
    {
      "cell_type": "code",
      "metadata": {
        "id": "oAydjWpz2V6-",
        "colab_type": "code",
        "colab": {
          "base_uri": "https://localhost:8080/",
          "height": 52
        },
        "outputId": "1059fd28-19e6-4fe1-d2c2-9d7b37f9c162"
      },
      "source": [
        "e=round(b)\n",
        "\n",
        "print('type of b :',type(b),'\\n','type of e :',type(e))"
      ],
      "execution_count": 23,
      "outputs": [
        {
          "output_type": "stream",
          "text": [
            "type of b : <class 'float'> \n",
            " type of e : <class 'int'>\n"
          ],
          "name": "stdout"
        }
      ]
    },
    {
      "cell_type": "markdown",
      "metadata": {
        "id": "13TKnM782V7A",
        "colab_type": "text"
      },
      "source": [
        "#### Functions\n",
        "Save round(b) in a variable e, then display the type of :  \n",
        "b  \n",
        "e  \n",
        "round"
      ]
    },
    {
      "cell_type": "code",
      "metadata": {
        "id": "hr3V7jJT2V7C",
        "colab_type": "code",
        "colab": {}
      },
      "source": [
        "def mongo(x):\n",
        "  return(x + x**2)"
      ],
      "execution_count": 0,
      "outputs": []
    },
    {
      "cell_type": "markdown",
      "metadata": {
        "id": "ePe2RbG22V7E",
        "colab_type": "text"
      },
      "source": [
        "Create a function which takes as argument a value x, and returns x + x**2"
      ]
    },
    {
      "cell_type": "code",
      "metadata": {
        "id": "4KoB5y6p2V7F",
        "colab_type": "code",
        "colab": {}
      },
      "source": [
        "def monogo2(x):\n",
        "  print('x=',x,'\\n','2*x =',2*x,'\\n','3*x=',3*x)\n",
        "  return(x-1)"
      ],
      "execution_count": 0,
      "outputs": []
    },
    {
      "cell_type": "markdown",
      "metadata": {
        "id": "K1dBTqj12V7I",
        "colab_type": "text"
      },
      "source": [
        "Create a function which takes as argument a value x, prints x, 2 * x and 3 * x, and returns x - 1."
      ]
    },
    {
      "cell_type": "code",
      "metadata": {
        "id": "pw9BrwGk2V7I",
        "colab_type": "code",
        "colab": {}
      },
      "source": [
        "\n",
        "def monogo3(x,y):\n",
        "  return(round(x)*y)"
      ],
      "execution_count": 0,
      "outputs": []
    },
    {
      "cell_type": "markdown",
      "metadata": {
        "id": "-eJ5zl4U2V7K",
        "colab_type": "text"
      },
      "source": [
        "Write down a function that takes x and y as the arguments, and returns a rounded value of x multiplied by the value of y"
      ]
    },
    {
      "cell_type": "markdown",
      "metadata": {
        "id": "43E67yZS2V7L",
        "colab_type": "text"
      },
      "source": [
        "#### Strings\n",
        "Create a string called birthday containing your birthday."
      ]
    },
    {
      "cell_type": "code",
      "metadata": {
        "id": "CxPCC9Ku2V7L",
        "colab_type": "code",
        "colab": {}
      },
      "source": [
        "birthday=\"09-10-2019\"\n"
      ],
      "execution_count": 0,
      "outputs": []
    },
    {
      "cell_type": "markdown",
      "metadata": {
        "id": "8Z_NhWbs2V7N",
        "colab_type": "text"
      },
      "source": [
        "Using a and b, create a string \"Hello my dear\" and print it."
      ]
    },
    {
      "cell_type": "code",
      "metadata": {
        "id": "qS2K18l52V7O",
        "colab_type": "code",
        "colab": {}
      },
      "source": [
        "a = \"Hello\"\n",
        "b = \"my dear\""
      ],
      "execution_count": 0,
      "outputs": []
    },
    {
      "cell_type": "markdown",
      "metadata": {
        "id": "FZL8L-ac2V7Q",
        "colab_type": "text"
      },
      "source": [
        "Print the number of letters of a and b using the function len(string)"
      ]
    },
    {
      "cell_type": "code",
      "metadata": {
        "id": "c4q3k-DN2V7Q",
        "colab_type": "code",
        "colab": {
          "base_uri": "https://localhost:8080/",
          "height": 52
        },
        "outputId": "f39d88e3-b24b-4167-bc92-90bcb21fd4df"
      },
      "source": [
        "print(\" the number of lettres of a is \", len(a),'\\n', 'The number of lettres of b is ', len(b))"
      ],
      "execution_count": 35,
      "outputs": [
        {
          "output_type": "stream",
          "text": [
            " the number of lettres of a is  5 \n",
            " The number of lettres of b is  7\n"
          ],
          "name": "stdout"
        }
      ]
    },
    {
      "cell_type": "markdown",
      "metadata": {
        "id": "7mlMKXhi2V7S",
        "colab_type": "text"
      },
      "source": [
        "A string can be included in the middle of another one using %s\n",
        "Ex : \n",
        "animal = \"horse\"\n",
        "action = \"love\"\n",
        "dream = \"i would %s to eat a %s\" %(action,animal)\n",
        "--> dream = \"i would love to eat a horse\"\n",
        "\n",
        "\n",
        "\n",
        "Create the string \"I am 30 years old and I live in Bogota\" using the following strings :"
      ]
    },
    {
      "cell_type": "code",
      "metadata": {
        "id": "RAFnakuh2V7S",
        "colab_type": "code",
        "colab": {
          "base_uri": "https://localhost:8080/",
          "height": 34
        },
        "outputId": "3c5d32c5-05b1-4096-e796-4821a21ed908"
      },
      "source": [
        "age = \"30 years old\"\n",
        "city = \"Bogota\"\n",
        "mongoString='I am '+age+'and i live in'+city\n",
        "print ( mongoString)"
      ],
      "execution_count": 41,
      "outputs": [
        {
          "output_type": "stream",
          "text": [
            "I am 30 years oldand i live inBogota\n"
          ],
          "name": "stdout"
        }
      ]
    },
    {
      "cell_type": "markdown",
      "metadata": {
        "id": "j1k-e0uR2V7V",
        "colab_type": "text"
      },
      "source": [
        "#### Lists\n",
        "\n",
        "To create a list, you need to use\"[ ]\". If you're using a mac, the command is alt + shift + \"(\" or \")\" .\n",
        "\n",
        "Create a list containing every letters from A to H, called letters."
      ]
    },
    {
      "cell_type": "code",
      "metadata": {
        "id": "FdeA9ZN9Xn2b",
        "colab_type": "code",
        "colab": {}
      },
      "source": [
        "letters=['A','B','C','D','E','F','G','H']"
      ],
      "execution_count": 0,
      "outputs": []
    },
    {
      "cell_type": "markdown",
      "metadata": {
        "id": "r-xCZk3g2V7X",
        "colab_type": "text"
      },
      "source": [
        "Print the letter E using its index in the list letters.\n",
        "\n",
        "Remember : index of the first element is 0."
      ]
    },
    {
      "cell_type": "code",
      "metadata": {
        "id": "6treUGER2V7Y",
        "colab_type": "code",
        "colab": {
          "base_uri": "https://localhost:8080/",
          "height": 34
        },
        "outputId": "9998616a-1c79-48ba-9d0c-185dc6ab09f2"
      },
      "source": [
        "print('the letter ',letters[4])"
      ],
      "execution_count": 48,
      "outputs": [
        {
          "output_type": "stream",
          "text": [
            "the letter  E\n"
          ],
          "name": "stdout"
        }
      ]
    },
    {
      "cell_type": "markdown",
      "metadata": {
        "id": "8GgPgQHI2V7d",
        "colab_type": "text"
      },
      "source": [
        "Replace the letter G by Y in letters."
      ]
    },
    {
      "cell_type": "code",
      "metadata": {
        "id": "d9hQ7rXxaQSn",
        "colab_type": "code",
        "colab": {}
      },
      "source": [
        "letters[letters.index('G')]='Y'"
      ],
      "execution_count": 0,
      "outputs": []
    },
    {
      "cell_type": "code",
      "metadata": {
        "id": "jRxVWC9_qjYj",
        "colab_type": "code",
        "colab": {}
      },
      "source": [
        ""
      ],
      "execution_count": 0,
      "outputs": []
    },
    {
      "cell_type": "code",
      "metadata": {
        "id": "qRnCgW5v2V7e",
        "colab_type": "code",
        "colab": {
          "base_uri": "https://localhost:8080/",
          "height": 34
        },
        "outputId": "ad57d1d4-74b4-4897-e9dd-944b30d579e6"
      },
      "source": [
        "\n",
        "letters[6]"
      ],
      "execution_count": 53,
      "outputs": [
        {
          "output_type": "execute_result",
          "data": {
            "text/plain": [
              "'Y'"
            ]
          },
          "metadata": {
            "tags": []
          },
          "execution_count": 53
        }
      ]
    },
    {
      "cell_type": "markdown",
      "metadata": {
        "id": "7LfnAQ902V7g",
        "colab_type": "text"
      },
      "source": [
        "Print the letter D in two different ways : once with its index, one with its index starting from the last element (negative index)."
      ]
    },
    {
      "cell_type": "code",
      "metadata": {
        "id": "04dgCPX82V7h",
        "colab_type": "code",
        "colab": {
          "base_uri": "https://localhost:8080/",
          "height": 52
        },
        "outputId": "ea48bb56-0270-4474-8195-38ce1c268696"
      },
      "source": [
        "print(' Letter with index ', letters[letters.index('D')],'\\n','Letter with index starting from the last element', letters[-5])"
      ],
      "execution_count": 55,
      "outputs": [
        {
          "output_type": "stream",
          "text": [
            " Letter with index  D \n",
            " Letter with index starting from the last element D\n"
          ],
          "name": "stdout"
        }
      ]
    },
    {
      "cell_type": "markdown",
      "metadata": {
        "id": "Fo0yIH3I2V7j",
        "colab_type": "text"
      },
      "source": [
        "Add the letter P to the list letters, using the function letters.append()"
      ]
    },
    {
      "cell_type": "code",
      "metadata": {
        "id": "0TNnI4L-2V7j",
        "colab_type": "code",
        "colab": {}
      },
      "source": [
        "letters.append('P')"
      ],
      "execution_count": 0,
      "outputs": []
    },
    {
      "cell_type": "markdown",
      "metadata": {
        "id": "HflA48cM2V7n",
        "colab_type": "text"
      },
      "source": [
        "Create a sublist sublet = [\"A\",\"B\",\"C\"] from the list letters.\n",
        "\n",
        "Remember : list[i:j] creates a sublist from list starting from the i th element to the j-1 th element."
      ]
    },
    {
      "cell_type": "code",
      "metadata": {
        "id": "4cnu6qF92V7o",
        "colab_type": "code",
        "colab": {
          "base_uri": "https://localhost:8080/",
          "height": 34
        },
        "outputId": "5d9a11c0-081a-49b5-c679-94a4ac64f95e"
      },
      "source": [
        "sublet=letters[0:3]\n",
        "print(sublet)"
      ],
      "execution_count": 59,
      "outputs": [
        {
          "output_type": "stream",
          "text": [
            "['A', 'B', 'C']\n"
          ],
          "name": "stdout"
        }
      ]
    },
    {
      "cell_type": "markdown",
      "metadata": {
        "id": "KKYap-Aj2V7p",
        "colab_type": "text"
      },
      "source": [
        "Concatenate letters and sublet into letters."
      ]
    },
    {
      "cell_type": "code",
      "metadata": {
        "id": "yihePYx72V7q",
        "colab_type": "code",
        "colab": {
          "base_uri": "https://localhost:8080/",
          "height": 34
        },
        "outputId": "46bd40b6-c017-48e5-ca6f-82b0df3b4b15"
      },
      "source": [
        "letters=letters+sublet\n",
        "print (letters)"
      ],
      "execution_count": 61,
      "outputs": [
        {
          "output_type": "stream",
          "text": [
            "['A', 'B', 'C', 'D', 'E', 'F', 'Y', 'H', 'P', 'A', 'B', 'C', 'A', 'B', 'C']\n"
          ],
          "name": "stdout"
        }
      ]
    },
    {
      "cell_type": "markdown",
      "metadata": {
        "id": "ZwhtNJDb2V7s",
        "colab_type": "text"
      },
      "source": [
        "Erase every occurence of C in letters.\n",
        "\n",
        "Remember : use list.remove(string) to delete every occurence of string in list."
      ]
    },
    {
      "cell_type": "code",
      "metadata": {
        "id": "7JJX4wgL2V7s",
        "colab_type": "code",
        "colab": {
          "base_uri": "https://localhost:8080/",
          "height": 34
        },
        "outputId": "3a44c430-9ac8-4e84-b4ef-3c51a842fea1"
      },
      "source": [
        "letters.remove('C')\n",
        "print(letters)"
      ],
      "execution_count": 64,
      "outputs": [
        {
          "output_type": "stream",
          "text": [
            "['A', 'B', 'D', 'E', 'F', 'Y', 'H', 'P', 'A', 'B', 'A', 'B']\n"
          ],
          "name": "stdout"
        }
      ]
    },
    {
      "cell_type": "markdown",
      "metadata": {
        "id": "LmIEC-lX2V7u",
        "colab_type": "text"
      },
      "source": [
        "Erase the second occurence of A in letters.\n",
        "Remember : use list.pop(index) to delete the index th element."
      ]
    },
    {
      "cell_type": "code",
      "metadata": {
        "id": "awXCG5pxixNP",
        "colab_type": "code",
        "colab": {}
      },
      "source": [
        "letters.pop([index for index, value in enumerate(letters) if value=='A'][1])"
      ],
      "execution_count": 0,
      "outputs": []
    },
    {
      "cell_type": "code",
      "metadata": {
        "id": "7zipSM-N2V7u",
        "colab_type": "code",
        "colab": {
          "base_uri": "https://localhost:8080/",
          "height": 34
        },
        "outputId": "b602580c-1fa6-4498-cad1-7f158651662c"
      },
      "source": [
        "print(letters)"
      ],
      "execution_count": 68,
      "outputs": [
        {
          "output_type": "stream",
          "text": [
            "['A', 'B', 'D', 'E', 'F', 'Y', 'H', 'P', 'B', 'A', 'B']\n"
          ],
          "name": "stdout"
        }
      ]
    },
    {
      "cell_type": "markdown",
      "metadata": {
        "id": "JvexWMDm2V7w",
        "colab_type": "text"
      },
      "source": [
        "#### Dictionary \n",
        "\n",
        "Dictionaries are similiar to lists, but instead of accessing an element through its index, we can use some keywords, which can be of any type.\n",
        "When you create it, you indicate the keyword and then the associated variables.\n",
        "Try to print every variable of the following dict :"
      ]
    },
    {
      "cell_type": "code",
      "metadata": {
        "id": "2VRbbxvD2V7z",
        "colab_type": "code",
        "colab": {}
      },
      "source": [
        "dict = {'x' : 3, 'y' : True, 'z' : [False, 89], 5 : \"banana\",  True : False }"
      ],
      "execution_count": 0,
      "outputs": []
    },
    {
      "cell_type": "markdown",
      "metadata": {
        "id": "7NSwpTGc2V72",
        "colab_type": "text"
      },
      "source": [
        "A list of the keywords of dict can be accessed using the function dict.keys()"
      ]
    },
    {
      "cell_type": "code",
      "metadata": {
        "id": "Gjn__fei2V73",
        "colab_type": "code",
        "colab": {
          "base_uri": "https://localhost:8080/",
          "height": 34
        },
        "outputId": "bc684e3c-d8fe-422a-944b-6a0b86b2291a"
      },
      "source": [
        "dict.keys()"
      ],
      "execution_count": 82,
      "outputs": [
        {
          "output_type": "execute_result",
          "data": {
            "text/plain": [
              "dict_keys(['x', 'y', 'z', 5, True])"
            ]
          },
          "metadata": {
            "tags": []
          },
          "execution_count": 82
        }
      ]
    },
    {
      "cell_type": "markdown",
      "metadata": {
        "id": "Qv5vK_vx2V75",
        "colab_type": "text"
      },
      "source": [
        "Add a new value False to dict, indexed by the keyword Banana.\n",
        "\n",
        "\n",
        "To add a new keyword, give the associated value as if the keyword already existed.  \n",
        "Example :  \n",
        "\n",
        "dict = {} \n",
        "dict[3] = \"hi\"  \n",
        "--> dict = {3 : \"hi\"}"
      ]
    },
    {
      "cell_type": "code",
      "metadata": {
        "id": "vHPVgmnm2V77",
        "colab_type": "code",
        "colab": {
          "base_uri": "https://localhost:8080/",
          "height": 34
        },
        "outputId": "51fb0122-3ac2-40d8-d8e4-74719d2f3eb8"
      },
      "source": [
        "dict['banana'] =False\n",
        "dict.keys()"
      ],
      "execution_count": 89,
      "outputs": [
        {
          "output_type": "execute_result",
          "data": {
            "text/plain": [
              "dict_keys(['x', 'y', 'z', 5, True, 'banana'])"
            ]
          },
          "metadata": {
            "tags": []
          },
          "execution_count": 89
        }
      ]
    },
    {
      "cell_type": "markdown",
      "metadata": {
        "id": "746oSmvz2V79",
        "colab_type": "text"
      },
      "source": [
        "Delete the key 'y' from dict.\n",
        "\n",
        "You can use dict.pop(key) to do that."
      ]
    },
    {
      "cell_type": "code",
      "metadata": {
        "id": "Uldwfv962V79",
        "colab_type": "code",
        "colab": {
          "base_uri": "https://localhost:8080/",
          "height": 87
        },
        "outputId": "91e09080-7cb9-41c1-9256-f98cead32d3f"
      },
      "source": [
        "\n",
        "dict.pop('y')\n"
      ],
      "execution_count": 97,
      "outputs": [
        {
          "output_type": "stream",
          "text": [
            "It's doesn't exist value must be able to in the dico  \n",
            " Look all keys word\n",
            "\n"
          ],
          "name": "stdout"
        },
        {
          "output_type": "execute_result",
          "data": {
            "text/plain": [
              "dict_keys(['x', 'z', 5, True, 'banana'])"
            ]
          },
          "metadata": {
            "tags": []
          },
          "execution_count": 97
        }
      ]
    },
    {
      "cell_type": "markdown",
      "metadata": {
        "id": "xk1DuWuM2V7_",
        "colab_type": "text"
      },
      "source": [
        "Try to delete the key 'g', which is not in dict."
      ]
    },
    {
      "cell_type": "code",
      "metadata": {
        "id": "lSyDVXH02V7_",
        "colab_type": "code",
        "colab": {
          "base_uri": "https://localhost:8080/",
          "height": 87
        },
        "outputId": "8fff806c-7db9-4505-818d-7a3fbd65646b"
      },
      "source": [
        "try:\n",
        "  dict.pop('y')\n",
        "except:\n",
        "  print(\"It's doesn't exist value must be able to in the dico \",'\\n','Look all keys word\\n')\n",
        "\n",
        "dict.keys()"
      ],
      "execution_count": 98,
      "outputs": [
        {
          "output_type": "stream",
          "text": [
            "It's doesn't exist value must be able to in the dico  \n",
            " Look all keys word\n",
            "\n"
          ],
          "name": "stdout"
        },
        {
          "output_type": "execute_result",
          "data": {
            "text/plain": [
              "dict_keys(['x', 'z', 5, True, 'banana'])"
            ]
          },
          "metadata": {
            "tags": []
          },
          "execution_count": 98
        }
      ]
    },
    {
      "cell_type": "markdown",
      "metadata": {
        "id": "hgi1IeB_2V8E",
        "colab_type": "text"
      },
      "source": [
        "As you can see, instead of just ignoring the command, an error is returned. If you do not want the program to be stopped if the value is not existing, you can add another action to be performed if the key does not exist. It must be written as second parameter.\n",
        "\n",
        "Addding None as second parameter prevents the program from being stopped by an unexisting key.\n",
        "\n",
        "Check this with the previous example."
      ]
    },
    {
      "cell_type": "code",
      "metadata": {
        "id": "iArPVZ3-2V8F",
        "colab_type": "code",
        "colab": {}
      },
      "source": [
        ""
      ],
      "execution_count": 0,
      "outputs": []
    },
    {
      "cell_type": "markdown",
      "metadata": {
        "id": "PQp1gI4D2V8J",
        "colab_type": "text"
      },
      "source": [
        "#### Tuples\n",
        "\n",
        "Tuples are very similar to lists, except their shape cannot be changed.\n",
        "Use ( ) to create them\n",
        "Create a tuple containing the integers from 5 to 9 and a tuple containing the integers from 1 to 4."
      ]
    },
    {
      "cell_type": "code",
      "metadata": {
        "id": "g3v5kZUC2V8K",
        "colab_type": "code",
        "colab": {}
      },
      "source": [
        ""
      ],
      "execution_count": 0,
      "outputs": []
    },
    {
      "cell_type": "markdown",
      "metadata": {
        "id": "a68KVYz82V8L",
        "colab_type": "text"
      },
      "source": [
        "Try to sum up these tuples"
      ]
    },
    {
      "cell_type": "code",
      "metadata": {
        "id": "yz5Mx9rE2V8M",
        "colab_type": "code",
        "outputId": "0f4a61c6-eb8c-4d63-887d-ff3808a3317b",
        "colab": {}
      },
      "source": [
        "a = (1,2,3,4)\n",
        "b = (5,6,7,8)\n",
        "a+b"
      ],
      "execution_count": 0,
      "outputs": [
        {
          "output_type": "execute_result",
          "data": {
            "text/plain": [
              "(1, 2, 3, 4, 5, 6, 7, 8)"
            ]
          },
          "metadata": {
            "tags": []
          },
          "execution_count": 13
        }
      ]
    },
    {
      "cell_type": "markdown",
      "metadata": {
        "id": "hNZow_Wo2V8O",
        "colab_type": "text"
      },
      "source": [
        "Print the 5th element of the sum., with two different ways."
      ]
    },
    {
      "cell_type": "code",
      "metadata": {
        "id": "K-rIt8002V8O",
        "colab_type": "code",
        "colab": {}
      },
      "source": [
        ""
      ],
      "execution_count": 0,
      "outputs": []
    },
    {
      "cell_type": "markdown",
      "metadata": {
        "id": "Mf7J8QrT2V8P",
        "colab_type": "text"
      },
      "source": [
        "#### Booleans\n",
        "\n",
        "Create two booleans a = True and b = False, and check the result of every combination of a and b with the logical operators and / or."
      ]
    },
    {
      "cell_type": "code",
      "metadata": {
        "id": "WGo_VZR12V8Q",
        "colab_type": "code",
        "colab": {}
      },
      "source": [
        ""
      ],
      "execution_count": 0,
      "outputs": []
    },
    {
      "cell_type": "markdown",
      "metadata": {
        "id": "h0X8MVGq2V8S",
        "colab_type": "text"
      },
      "source": [
        "To invert a boolean, use the function not. Ex : check the result of \"not a or b\""
      ]
    },
    {
      "cell_type": "code",
      "metadata": {
        "id": "o-juzV4V2V8T",
        "colab_type": "code",
        "colab": {}
      },
      "source": [
        ""
      ],
      "execution_count": 0,
      "outputs": []
    },
    {
      "cell_type": "markdown",
      "metadata": {
        "id": "gzQGCga-2V8V",
        "colab_type": "text"
      },
      "source": [
        "Check how to use the different logical operators :  \n",
        "equals ==  \n",
        "less than <  \n",
        "more than >    \n",
        "less or equal <=\n",
        "more or equal >=\n",
        "\n"
      ]
    },
    {
      "cell_type": "code",
      "metadata": {
        "id": "gWEoNxQJ2V8c",
        "colab_type": "code",
        "colab": {}
      },
      "source": [
        ""
      ],
      "execution_count": 0,
      "outputs": []
    },
    {
      "cell_type": "markdown",
      "metadata": {
        "id": "5cCFKi2D2V8e",
        "colab_type": "text"
      },
      "source": [
        "Create a the boolean which indicates if 3 in in the list \"list\" or not.\n",
        "\n",
        "Use the function in :  \"a in list\" = True is a is in list and False otherwise."
      ]
    },
    {
      "cell_type": "code",
      "metadata": {
        "id": "J5QLsCJD2V8e",
        "colab_type": "code",
        "colab": {}
      },
      "source": [
        "list = [4,3.2,9,44,2,\"hey\",False,True]"
      ],
      "execution_count": 0,
      "outputs": []
    },
    {
      "cell_type": "markdown",
      "metadata": {
        "id": "6PInLL072V8f",
        "colab_type": "text"
      },
      "source": [
        "#### Functions\n",
        "Once created, a function is used only if it is called.\n",
        "\n",
        "Here, the function square returns the squared value of the input.\n",
        "Try to print the squared value of 5 using the square function above."
      ]
    },
    {
      "cell_type": "code",
      "metadata": {
        "id": "wNQaCXcY2V8g",
        "colab_type": "code",
        "colab": {}
      },
      "source": [
        "def square(n):\n",
        "    result = n**2\n",
        "    return(result)\n",
        "\n"
      ],
      "execution_count": 0,
      "outputs": []
    },
    {
      "cell_type": "markdown",
      "metadata": {
        "id": "C66rKz4D2V8j",
        "colab_type": "text"
      },
      "source": [
        "The \"return\" function is very important when you define a function, for two reasons. First, it allows to tell what will be the output of the function. Second, this function means that we are at the end of the function, so the next lines do not need to be read.\n",
        "\n",
        "Create a function square2(n) identical to square(n) without the return(result) line and see what happens if you try to compute square2(5)."
      ]
    },
    {
      "cell_type": "code",
      "metadata": {
        "id": "-b7tpkhj2V8j",
        "colab_type": "code",
        "outputId": "d0d6cff4-f517-4e41-bc93-17bdf6073ba8",
        "colab": {}
      },
      "source": [
        "def square(n):\n",
        "    result = n**2\n",
        "\n",
        "print(square(5))"
      ],
      "execution_count": 0,
      "outputs": [
        {
          "output_type": "stream",
          "text": [
            "None\n"
          ],
          "name": "stdout"
        }
      ]
    },
    {
      "cell_type": "markdown",
      "metadata": {
        "id": "2_VhiacO2V8m",
        "colab_type": "text"
      },
      "source": [
        "Create a function square3(n) identical to square(n) with one more line \"print(\"hi\")\" after return(result) and see what happens if you try to compute square3(5)."
      ]
    },
    {
      "cell_type": "code",
      "metadata": {
        "id": "mOBkXBgC2V8n",
        "colab_type": "code",
        "colab": {}
      },
      "source": [
        ""
      ],
      "execution_count": 0,
      "outputs": []
    },
    {
      "cell_type": "markdown",
      "metadata": {
        "id": "pxQ8bQR-2V8o",
        "colab_type": "text"
      },
      "source": [
        "Create a function firstandlast(l) which returns a tuple containing the first and the last elements of l, a list input.\n",
        "Try it on the list test."
      ]
    },
    {
      "cell_type": "code",
      "metadata": {
        "id": "0kcY-eZn2V8p",
        "colab_type": "code",
        "colab": {}
      },
      "source": [
        "test = [\"Good\",4,27,[3,28],\"animal\",\"X\",True, \"job !\"]"
      ],
      "execution_count": 0,
      "outputs": []
    },
    {
      "cell_type": "markdown",
      "metadata": {
        "id": "mTymWq9T2V8s",
        "colab_type": "text"
      },
      "source": [
        "Once a function is created, it can be called even in the definition of an other function.  \n",
        "Create a function sumoffandl which takes as input a list, and returns the sum of its first and last terms. We will use the firstandlast(n) function."
      ]
    },
    {
      "cell_type": "code",
      "metadata": {
        "id": "GDWZq5D82V8s",
        "colab_type": "code",
        "colab": {}
      },
      "source": [
        ""
      ],
      "execution_count": 0,
      "outputs": []
    },
    {
      "cell_type": "markdown",
      "metadata": {
        "id": "BVVstQ7V2V8u",
        "colab_type": "text"
      },
      "source": [
        "#### Loops\n",
        "\n",
        "##### For\n",
        "\n",
        "Run the following code and watch the syntaxe of the For loop function"
      ]
    },
    {
      "cell_type": "code",
      "metadata": {
        "id": "kLHIepdE2V8u",
        "colab_type": "code",
        "outputId": "1574297a-4c42-49c0-e692-71f0894d134e",
        "colab": {}
      },
      "source": [
        "list = [2,5,4,2,8,20]\n",
        "for x in list:\n",
        "    print(x)"
      ],
      "execution_count": 0,
      "outputs": [
        {
          "output_type": "stream",
          "text": [
            "2\n",
            "5\n",
            "4\n",
            "2\n",
            "8\n",
            "20\n"
          ],
          "name": "stdout"
        }
      ]
    },
    {
      "cell_type": "markdown",
      "metadata": {
        "id": "hJVFi0_t2V8v",
        "colab_type": "text"
      },
      "source": [
        "Now try your own loop : compute the sum of the terms of the list \"list\" with a for loop."
      ]
    },
    {
      "cell_type": "code",
      "metadata": {
        "id": "NlqsS8oI2V8w",
        "colab_type": "code",
        "colab": {}
      },
      "source": [
        ""
      ],
      "execution_count": 0,
      "outputs": []
    },
    {
      "cell_type": "markdown",
      "metadata": {
        "id": "2CTUfxF32V8x",
        "colab_type": "text"
      },
      "source": [
        "When we want to iterate on some integers, we use the range function : \"for k in range(i,j)\" means that k will take the value of every integer between i and j-1\n",
        "Compute the product of integers from 37 to 54 using a for loop and the range function."
      ]
    },
    {
      "cell_type": "code",
      "metadata": {
        "id": "ChTFJncb2V8y",
        "colab_type": "code",
        "colab": {}
      },
      "source": [
        ""
      ],
      "execution_count": 0,
      "outputs": []
    },
    {
      "cell_type": "markdown",
      "metadata": {
        "id": "AYOSiVcA2V80",
        "colab_type": "text"
      },
      "source": [
        "Create a function which takes a list as input and returns the same list but elements are inverted (the first element becomes the last, etc)"
      ]
    },
    {
      "cell_type": "code",
      "metadata": {
        "id": "DeRe9iSl2V80",
        "colab_type": "code",
        "colab": {}
      },
      "source": [
        ""
      ],
      "execution_count": 0,
      "outputs": []
    },
    {
      "cell_type": "markdown",
      "metadata": {
        "id": "_paXik9W2V83",
        "colab_type": "text"
      },
      "source": [
        "##### if\n",
        "\n",
        "Test the function test with -5, 1, -1.7, 8, and interpret."
      ]
    },
    {
      "cell_type": "code",
      "metadata": {
        "id": "nlIoT-td2V83",
        "colab_type": "code",
        "colab": {}
      },
      "source": [
        "def test(x):\n",
        "    if x**2 > 4 :\n",
        "        print(\"yes\")\n",
        "    else :\n",
        "        print(\"no\")"
      ],
      "execution_count": 0,
      "outputs": []
    },
    {
      "cell_type": "markdown",
      "metadata": {
        "id": "0o73Biu62V85",
        "colab_type": "text"
      },
      "source": [
        "Create a function which takes a list as input and returns a boolean, set to True if the first element is a string, an False otherwise."
      ]
    },
    {
      "cell_type": "code",
      "metadata": {
        "id": "_B0gwZ6A2V85",
        "colab_type": "code",
        "colab": {}
      },
      "source": [
        ""
      ],
      "execution_count": 0,
      "outputs": []
    },
    {
      "cell_type": "markdown",
      "metadata": {
        "id": "pIKdGA-X2V87",
        "colab_type": "text"
      },
      "source": [
        "Create a function which takes a list as input and returns a boolean, set to True if there is a string in the list, and False otherwise.\n",
        "\n",
        "Hint : combine for and if."
      ]
    },
    {
      "cell_type": "code",
      "metadata": {
        "id": "HoNrSiZ02V87",
        "colab_type": "code",
        "colab": {}
      },
      "source": [
        ""
      ],
      "execution_count": 0,
      "outputs": []
    },
    {
      "cell_type": "code",
      "metadata": {
        "id": "p566Dun_2V89",
        "colab_type": "code",
        "colab": {}
      },
      "source": [
        ""
      ],
      "execution_count": 0,
      "outputs": []
    },
    {
      "cell_type": "markdown",
      "metadata": {
        "id": "-SMISRAN2V8-",
        "colab_type": "text"
      },
      "source": [
        "##### While\n",
        "\n",
        "Run the following cell and interpret."
      ]
    },
    {
      "cell_type": "code",
      "metadata": {
        "id": "sf1Zhuvp2V8-",
        "colab_type": "code",
        "outputId": "f86c3ce5-9c13-414b-ee60-afec4c82b892",
        "colab": {}
      },
      "source": [
        "x = 16\n",
        "while x >3 :\n",
        "    print(x)\n",
        "    x = x / 2"
      ],
      "execution_count": 0,
      "outputs": [
        {
          "output_type": "stream",
          "text": [
            "16\n",
            "8.0\n",
            "4.0\n"
          ],
          "name": "stdout"
        }
      ]
    },
    {
      "cell_type": "markdown",
      "metadata": {
        "id": "IXibquaN2V9A",
        "colab_type": "text"
      },
      "source": [
        "Create a function which takes a list, and returns false if there is no string inside, and the index of the first string otherwise, using a while loop."
      ]
    },
    {
      "cell_type": "code",
      "metadata": {
        "id": "95Bn6jr_2V9B",
        "colab_type": "code",
        "colab": {}
      },
      "source": [
        ""
      ],
      "execution_count": 0,
      "outputs": []
    },
    {
      "cell_type": "markdown",
      "metadata": {
        "id": "XTUbrava2V9C",
        "colab_type": "text"
      },
      "source": [
        "Print the first integer whose squared value is more than 7533493"
      ]
    },
    {
      "cell_type": "code",
      "metadata": {
        "id": "EWTvWt302V9C",
        "colab_type": "code",
        "colab": {}
      },
      "source": [
        ""
      ],
      "execution_count": 0,
      "outputs": []
    },
    {
      "cell_type": "markdown",
      "metadata": {
        "id": "EISozSKE2V9E",
        "colab_type": "text"
      },
      "source": [
        "## Libraries\n",
        "\n",
        "#### Import\n",
        "\n",
        "Import the library numpy, with the shortened name np.\n",
        "\n",
        "Remember : import XXXXXX as YY to import the module XXXXXX with the shortened name YY."
      ]
    },
    {
      "cell_type": "code",
      "metadata": {
        "id": "aLMRq1YG2V9F",
        "colab_type": "code",
        "colab": {}
      },
      "source": [
        ""
      ],
      "execution_count": 0,
      "outputs": []
    },
    {
      "cell_type": "markdown",
      "metadata": {
        "id": "rqm6zABj2V9I",
        "colab_type": "text"
      },
      "source": [
        "Once a library is imported, all its functions are stored in the kernel and can be accessed.\n",
        "Print the value of pi using the function pi in numpy.\n",
        "\n",
        "Remember : To use a function of a library imported as YY, use YY.function()"
      ]
    },
    {
      "cell_type": "code",
      "metadata": {
        "id": "PefceTOU2V9J",
        "colab_type": "code",
        "colab": {}
      },
      "source": [
        ""
      ],
      "execution_count": 0,
      "outputs": []
    },
    {
      "cell_type": "markdown",
      "metadata": {
        "id": "8bBBQuRy2V9K",
        "colab_type": "text"
      },
      "source": [
        "## Numpy\n",
        "\n",
        "Create an array containing the integers from 0 to 9"
      ]
    },
    {
      "cell_type": "code",
      "metadata": {
        "id": "ZhY-4JQ72V9K",
        "colab_type": "code",
        "colab": {}
      },
      "source": [
        ""
      ],
      "execution_count": 0,
      "outputs": []
    },
    {
      "cell_type": "markdown",
      "metadata": {
        "id": "H8YSqSFu2V9M",
        "colab_type": "text"
      },
      "source": [
        "Create a 10x10 matrix name M, where the element of line i column j is 10 x i + j"
      ]
    },
    {
      "cell_type": "code",
      "metadata": {
        "id": "cYTotx5_2V9N",
        "colab_type": "code",
        "colab": {}
      },
      "source": [
        ""
      ],
      "execution_count": 0,
      "outputs": []
    },
    {
      "cell_type": "markdown",
      "metadata": {
        "id": "InQ_Cgzo2V9P",
        "colab_type": "text"
      },
      "source": [
        "Compute the eigenvalues and eigenvectors of M, using the function linalg.eig from numpy."
      ]
    },
    {
      "cell_type": "code",
      "metadata": {
        "id": "a0sZAKdL2V9P",
        "colab_type": "code",
        "colab": {}
      },
      "source": [
        ""
      ],
      "execution_count": 0,
      "outputs": []
    },
    {
      "cell_type": "markdown",
      "metadata": {
        "id": "i5_yY2Mb2V9S",
        "colab_type": "text"
      },
      "source": [
        "Compute the sum of the lists X and Y without using the function for."
      ]
    },
    {
      "cell_type": "code",
      "metadata": {
        "id": "Fkdkw2c62V9T",
        "colab_type": "code",
        "colab": {}
      },
      "source": [
        "X = [1232839,328329,122198,239239,128921,-139183, 318, 2983, -93810938]\n",
        "Y = [2, 45, -120132, -3293203, 45, 45, 90/12, 30**3, 3209302]"
      ],
      "execution_count": 0,
      "outputs": []
    },
    {
      "cell_type": "markdown",
      "metadata": {
        "id": "FBaLZ4b_2V9V",
        "colab_type": "text"
      },
      "source": [
        "Compute the scalar product of X and Y.\n",
        "\n",
        "Hint : the numpy function is dot."
      ]
    },
    {
      "cell_type": "code",
      "metadata": {
        "id": "5BgC2T4M2V9W",
        "colab_type": "code",
        "colab": {}
      },
      "source": [
        ""
      ],
      "execution_count": 0,
      "outputs": []
    },
    {
      "cell_type": "markdown",
      "metadata": {
        "id": "GPQHS9oX2V9b",
        "colab_type": "text"
      },
      "source": [
        "#### Pandas\n",
        "\n",
        "In Pandas, we work with dataframes. Let's create one to see how it works.\n",
        "\n",
        "Import the pandas module, with pd as shortened name, and the random module. "
      ]
    },
    {
      "cell_type": "code",
      "metadata": {
        "id": "xX_ZlyBO2V9b",
        "colab_type": "code",
        "colab": {}
      },
      "source": [
        ""
      ],
      "execution_count": 0,
      "outputs": []
    },
    {
      "cell_type": "markdown",
      "metadata": {
        "id": "seuGVMG22V9d",
        "colab_type": "text"
      },
      "source": [
        "Create 5 lists composed of 4 random numbers between 1 and 100 and a string as final element.\n",
        "Use random.randint(i,n) from numpy to get a list of n random numbers between 0 and i-1."
      ]
    },
    {
      "cell_type": "code",
      "metadata": {
        "id": "JsQteYRS2V9d",
        "colab_type": "code",
        "colab": {}
      },
      "source": [
        ""
      ],
      "execution_count": 0,
      "outputs": []
    },
    {
      "cell_type": "markdown",
      "metadata": {
        "id": "GDMBmsd32V9f",
        "colab_type": "text"
      },
      "source": [
        "Create a dataframe named data, composed of these 5 lists. We will call the columns F1, F2, F3, F4 and STR.\n",
        "\n",
        "Reminder : use the function pandas.DataFrame(list, columns = [...]) with columns = the names of the columns in a list."
      ]
    },
    {
      "cell_type": "code",
      "metadata": {
        "id": "4--JGyNz2V9f",
        "colab_type": "code",
        "colab": {}
      },
      "source": [
        ""
      ],
      "execution_count": 0,
      "outputs": []
    },
    {
      "cell_type": "markdown",
      "metadata": {
        "id": "7848C-L82V9h",
        "colab_type": "text"
      },
      "source": [
        "Print the STR feature of each element."
      ]
    },
    {
      "cell_type": "code",
      "metadata": {
        "id": "RBQcC7Ib2V9h",
        "colab_type": "code",
        "colab": {}
      },
      "source": [
        ""
      ],
      "execution_count": 0,
      "outputs": []
    },
    {
      "cell_type": "markdown",
      "metadata": {
        "id": "UYn0t2Du2V9i",
        "colab_type": "text"
      },
      "source": [
        "Create a new dataframe composed of the rows 1, 3 and 5 of data.\n",
        "Compute its F3 mean.\n",
        "\n",
        "Reminder : DATA.loc[ [2,3,4] , [\"Feature1\",\"Feature2\"] ] will create a sub dataframe from DATA, with its rows 2, 3 and 4, and the columns Feature1 an Feature2."
      ]
    },
    {
      "cell_type": "code",
      "metadata": {
        "id": "Hcckp1NB2V9j",
        "colab_type": "code",
        "colab": {}
      },
      "source": [
        ""
      ],
      "execution_count": 0,
      "outputs": []
    },
    {
      "cell_type": "markdown",
      "metadata": {
        "id": "rS-AYPFN2V9p",
        "colab_type": "text"
      },
      "source": [
        "Let's go back to the dataframe \"data\". Create a new dataframe composed of the daqta rows where F1 > 40.\n",
        "\n",
        "Hint : DATA[DATA[\"Feature1\"] == 7] will create a new dataframe from DATA with the lines of DATA where the feature 1 equals 7."
      ]
    },
    {
      "cell_type": "code",
      "metadata": {
        "id": "n6O-xRIS2V9p",
        "colab_type": "code",
        "colab": {}
      },
      "source": [
        ""
      ],
      "execution_count": 0,
      "outputs": []
    },
    {
      "cell_type": "code",
      "metadata": {
        "id": "iCf9V8982V9s",
        "colab_type": "code",
        "colab": {}
      },
      "source": [
        ""
      ],
      "execution_count": 0,
      "outputs": []
    }
  ]
}