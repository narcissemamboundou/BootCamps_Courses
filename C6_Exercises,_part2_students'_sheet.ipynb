{
  "nbformat": 4,
  "nbformat_minor": 0,
  "metadata": {
    "kernelspec": {
      "display_name": "Python 3",
      "language": "python",
      "name": "python3"
    },
    "language_info": {
      "codemirror_mode": {
        "name": "ipython",
        "version": 3
      },
      "file_extension": ".py",
      "mimetype": "text/x-python",
      "name": "python",
      "nbconvert_exporter": "python",
      "pygments_lexer": "ipython3",
      "version": "3.6.8"
    },
    "colab": {
      "name": "C6 - Exercises, part2 - students' sheet.ipynb",
      "provenance": [],
      "include_colab_link": true
    }
  },
  "cells": [
    {
      "cell_type": "markdown",
      "metadata": {
        "id": "view-in-github",
        "colab_type": "text"
      },
      "source": [
        "<a href=\"https://colab.research.google.com/github/thalesCruz64/BootCamps_Courses/blob/master/C6_Exercises%2C_part2_students'_sheet.ipynb\" target=\"_parent\"><img src=\"https://colab.research.google.com/assets/colab-badge.svg\" alt=\"Open In Colab\"/></a>"
      ]
    },
    {
      "cell_type": "markdown",
      "metadata": {
        "id": "FC18TDt_MQq8",
        "colab_type": "text"
      },
      "source": [
        "## Python\n",
        "The exercices in this notebook are going gradually, mean from the evidence to the strong one. Make you sure that you are dealing with the first one before going in deep.\n",
        "\n",
        "#### Exercise 1\n",
        "\n",
        " 1. Assign the time and distance variables with values 6.892 and 19.7.\n",
        " 2. Calculate and display the value of the speed.\n",
        " 3. Improve the display by imposing a number after the decimal point."
      ]
    },
    {
      "cell_type": "code",
      "metadata": {
        "id": "dvtv0p9-p96P",
        "colab_type": "code",
        "colab": {
          "base_uri": "https://localhost:8080/",
          "height": 52
        },
        "outputId": "8caeee72-86e4-4326-82aa-161987e6a006"
      },
      "source": [
        "#variables\n",
        "_time_= 6.892\n",
        "_distance_ =19.7\n",
        "\n",
        "#Spead formula _speed_=_distance_*_time_\n",
        "_speed_=_time_*_distance_\n",
        "print(\"The speed is \",_speed_)\n",
        "#improvement of the display\n",
        "print(\"The speed is \",\"%.1f\" %_speed_)\n"
      ],
      "execution_count": 5,
      "outputs": [
        {
          "output_type": "stream",
          "text": [
            "The speed is  135.7724\n",
            "The speed is  135.8\n"
          ],
          "name": "stdout"
        }
      ]
    },
    {
      "cell_type": "markdown",
      "metadata": {
        "id": "MSvcvSkmMQrS",
        "colab_type": "text"
      },
      "source": [
        "#### Exercice 2\n",
        "\n",
        "1. Enter a float. If it is positive or null, display its square root, otherwise display an error message.\n",
        "\n",
        "2. The lexicographic order is that of the dictionary.\n",
        "    Enter two words, compare them to find the \"smallest\" and display the result.\n",
        "    Repeat the exercise using the ternary instruction:\n",
        "    < res > = < a > if < condition > else < b >.\n",
        "\n",
        "3. It is desired to secure a pressurized enclosure.\n",
        "\n",
        "    We set a threshold pressure and a threshold volume: pSeuil = 2, vSeuil = 7.\n",
        "    We ask to enter the pressure and the current volume of the speaker and to write a script\n",
        "    which simulates the following behavior:\n",
        "    - if the volume and pressure are above the thresholds: immediate stop;\n",
        "    - if only the pressure is above the threshold pressure: ask to increase the volume of the enclosure;\n",
        "    - if only the volume is greater than the threshold volume: ask to decrease the volume\n",
        "    the enclosure;\n",
        "    - otherwise declare that \"everything is fine\".\n",
        "    This behavior will be implemented by a multiple alternative.\n",
        "\n",
        "4. Initialize two integers: a = 0 and b = 10.\n",
        "    Write a loop displaying and incrementing the value of a as long as it remains lower\n",
        "    to that of b.\n",
        "    Write another loop decrementing the value of b and displaying its value if it is\n",
        "    Odd. Closing as long as b is not zero.\n",
        "\n",
        "5. Write a filtered entry of an integer in the range 1 to 10, including terminals. Display the input.\n",
        "\n",
        "6. Display each character of a string using a for loop. Display each item in a list using a for loop.\n",
        "\n",
        "7. Display the integers from 0 to 15 not included, three in three, using a for loop and the range () statement.\n",
        "\n",
        "8. Use the break statement to break a display loop for integers from 1 to 10 inclusive, when the loop variable is 5.\n",
        "\n",
        "9. Use the continue statement to change a for-all display loop from 1 to 10 inclusive, except when the loop variable is 5.\n",
        "10. Use an exception to calculate, in a loop moving from -3 to 3 inclusive, the value of sin (x) / x."
      ]
    },
    {
      "cell_type": "code",
      "metadata": {
        "id": "fWsl_wz1s6JC",
        "colab_type": "code",
        "colab": {
          "base_uri": "https://localhost:8080/",
          "height": 52
        },
        "outputId": "934ae675-194f-42b7-afa4-21b4d3e96876"
      },
      "source": [
        "#Import \n",
        "import numpy as np\n",
        "\n",
        "#Q1\n",
        "user_input_float = input (\"Enter  a float : \")\n",
        "try:\n",
        "  value_=float(user_input_float)\n",
        "  if(value_<=0):\n",
        "    raise ValueError(\"Input number value negatif \")\n",
        "  else :\n",
        "     print(\"The root is : \",np.sqrt(value_)) \n",
        "except ValueError:\n",
        "   print(\"It is not a float\")\n",
        "    \n",
        "#Q2\n",
        "\n"
      ],
      "execution_count": 38,
      "outputs": [
        {
          "output_type": "stream",
          "text": [
            "Enter  a float : 4\n",
            "The root is :  2.0\n"
          ],
          "name": "stdout"
        }
      ]
    },
    {
      "cell_type": "code",
      "metadata": {
        "id": "nnZes_R_2BJ8",
        "colab_type": "code",
        "colab": {
          "base_uri": "https://localhost:8080/",
          "height": 87
        },
        "outputId": "39aa48a3-008c-4216-fda5-0f2bce94cc10"
      },
      "source": [
        "#Q2\n",
        "user_input_s1 = input (\"Enter  a string 1 : \")\n",
        "user_input_s2 = input (\"Enter  a string 2 : \")\n",
        "\n",
        "if(user_input_s1>user_input_s2):\n",
        "  print (\"the smalest is :\", user_input_s2)\n",
        "else :\n",
        "  print (\"the smalest is : \",user_input_s1)\n",
        "  \n",
        "res=user_input_s2 if user_input_s1>user_input_s2 else user_input_s1\n",
        "print(\"the smalest is : \",res)"
      ],
      "execution_count": 46,
      "outputs": [
        {
          "output_type": "stream",
          "text": [
            "Enter  a string 1 : kjlkm\n",
            "Enter  a string 2 : azdaefre\n",
            "the smalest is : azdaefre\n",
            "azdaefre\n"
          ],
          "name": "stdout"
        }
      ]
    },
    {
      "cell_type": "code",
      "metadata": {
        "id": "CH_2wi8G4zTk",
        "colab_type": "code",
        "colab": {
          "base_uri": "https://localhost:8080/",
          "height": 87
        },
        "outputId": "3e39964a-f966-4da3-cdc8-5d6992b315be"
      },
      "source": [
        "#Q3\n",
        "user_input_p = input (\"Enter the pressure: \")\n",
        "user_input_v = input (\"Enter the volume : \")\n",
        "pSeuil=2\n",
        "vSeuil=7\n",
        "\n",
        "try:\n",
        "  p=float(user_input_p)\n",
        "  v=float(user_input_v)\n",
        "  test='debut'\n",
        "  while test!='fin':\n",
        "    if(p>pSeuil and v>vSeuil):\n",
        "      raise ValueError(\"Above Seuil\")\n",
        "    if (p>pSeuil and v<vSeuil):\n",
        "      increase_ = input (\"Increase the volume : \")\n",
        "      v=v+float(increase_)\n",
        "    if (p<pSeuil and v>vSeuil):\n",
        "      decrease_ = input (\"decrease the pressure : \")\n",
        "      p=p+float(decrease_)\n",
        "    if (p<pSeuil and v<vSeuil):\n",
        "      print( \"GOOD !\")\n",
        "      test='fin'\n",
        "except ValueError:\n",
        "   print(\"It is not a float\")\n"
      ],
      "execution_count": 59,
      "outputs": [
        {
          "output_type": "stream",
          "text": [
            "Enter the pressure: 4\n",
            "Enter the volume : 6\n",
            "Increase the volume : 2\n",
            "It is not a float\n"
          ],
          "name": "stdout"
        }
      ]
    },
    {
      "cell_type": "code",
      "metadata": {
        "id": "pqdg0Q5ID_v1",
        "colab_type": "code",
        "colab": {
          "base_uri": "https://localhost:8080/",
          "height": 263
        },
        "outputId": "1a390f0a-fc86-464b-e6da-e53949328cae"
      },
      "source": [
        "#Q4\n",
        "a=0\n",
        "b=10\n",
        "for i in range(b-1):\n",
        "  a=a+1\n",
        "  print(\"a: \",a)\n",
        "  \n",
        "for w in range(10,0,-1):\n",
        "  b=b-1\n",
        "  if b%2==1:\n",
        "    print(\"b: \",b)\n",
        "  "
      ],
      "execution_count": 85,
      "outputs": [
        {
          "output_type": "stream",
          "text": [
            "a:  1\n",
            "a:  2\n",
            "a:  3\n",
            "a:  4\n",
            "a:  5\n",
            "a:  6\n",
            "a:  7\n",
            "a:  8\n",
            "a:  9\n",
            "b:  9\n",
            "b:  7\n",
            "b:  5\n",
            "b:  3\n",
            "b:  1\n"
          ],
          "name": "stdout"
        }
      ]
    },
    {
      "cell_type": "code",
      "metadata": {
        "id": "ufJkXaSPQJI2",
        "colab_type": "code",
        "colab": {}
      },
      "source": [
        "#Q6 each charactere of a string\n",
        "\n",
        "chaine = input('entrer une chaine :') \n",
        "print(\"The décomposition of your string \\n\")\n",
        "for w in range(len(chaine)):\n",
        "  print(chaine[w])\n",
        "  \n"
      ],
      "execution_count": 0,
      "outputs": []
    },
    {
      "cell_type": "code",
      "metadata": {
        "id": "N8XT27e3QLd2",
        "colab_type": "code",
        "colab": {
          "base_uri": "https://localhost:8080/",
          "height": 105
        },
        "outputId": "07f234f6-408d-481c-9c08-3d09490fee16"
      },
      "source": [
        "#Q7 \n",
        "for e in range(0,15,3):\n",
        "  print (e)"
      ],
      "execution_count": 1,
      "outputs": [
        {
          "output_type": "stream",
          "text": [
            "0\n",
            "3\n",
            "6\n",
            "9\n",
            "12\n"
          ],
          "name": "stdout"
        }
      ]
    },
    {
      "cell_type": "code",
      "metadata": {
        "id": "no8y233ZYJIY",
        "colab_type": "code",
        "colab": {
          "base_uri": "https://localhost:8080/",
          "height": 105
        },
        "outputId": "31e34f7d-c1aa-48c6-c5eb-bccf42a2774f"
      },
      "source": [
        "#Q8\n",
        "for w in range(0, 11):\n",
        "  if(w==5):\n",
        "    break\n",
        "  print(w) "
      ],
      "execution_count": 7,
      "outputs": [
        {
          "output_type": "stream",
          "text": [
            "0\n",
            "1\n",
            "2\n",
            "3\n",
            "4\n"
          ],
          "name": "stdout"
        }
      ]
    },
    {
      "cell_type": "code",
      "metadata": {
        "id": "pJW6p_D8Y2gI",
        "colab_type": "code",
        "colab": {
          "base_uri": "https://localhost:8080/",
          "height": 193
        },
        "outputId": "db2a0b0c-0adb-40dd-fdeb-ea6d47351d8d"
      },
      "source": [
        "#Q9 \n",
        "l=range(11)\n",
        "for w in l:\n",
        "  if w!=5 :\n",
        "    print(w)\n",
        "    \n",
        "  \n",
        "  "
      ],
      "execution_count": 19,
      "outputs": [
        {
          "output_type": "stream",
          "text": [
            "0\n",
            "1\n",
            "2\n",
            "3\n",
            "4\n",
            "6\n",
            "7\n",
            "8\n",
            "9\n",
            "10\n"
          ],
          "name": "stdout"
        }
      ]
    },
    {
      "cell_type": "code",
      "metadata": {
        "id": "j7044MFk05CZ",
        "colab_type": "code",
        "colab": {
          "base_uri": "https://localhost:8080/",
          "height": 175
        },
        "outputId": "194c81ca-21dc-42bc-80b6-d4637dec77b8"
      },
      "source": [
        "#Q10\n",
        "import sys\n",
        "import numpy as np \n",
        "for i in range(-3,4):\n",
        "  try :\n",
        "    print(np.sin(i)/i)\n",
        "  except : \n",
        "    print(\"not possible\")\n",
        "    "
      ],
      "execution_count": 24,
      "outputs": [
        {
          "output_type": "stream",
          "text": [
            "0.0470400026866224\n",
            "0.45464871341284085\n",
            "0.8414709848078965\n",
            "nan\n",
            "0.8414709848078965\n",
            "0.45464871341284085\n",
            "0.0470400026866224\n"
          ],
          "name": "stdout"
        },
        {
          "output_type": "stream",
          "text": [
            "/usr/local/lib/python3.6/dist-packages/ipykernel_launcher.py:5: RuntimeWarning: invalid value encountered in double_scalars\n",
            "  \"\"\"\n"
          ],
          "name": "stderr"
        }
      ]
    },
    {
      "cell_type": "markdown",
      "metadata": {
        "id": "Y6K0pXGnMQsS",
        "colab_type": "text"
      },
      "source": [
        "#### Exercice 3\n",
        "\n",
        "Write a volMasseEllipsoide function that returns the volume and mass of an ellipsoid through a tuple. The parameters are the three half-axes and the density. These four parameters will be given default values. We give: v = 4/3 (πabc). Test this function by calls with different numbers of arguments.    "
      ]
    },
    {
      "cell_type": "code",
      "metadata": {
        "id": "bccMtaLOEjQS",
        "colab_type": "code",
        "colab": {
          "base_uri": "https://localhost:8080/",
          "height": 34
        },
        "outputId": "9aab5b6b-9e35-4d86-d2c6-117e16630e23"
      },
      "source": [
        "#exercice3\n",
        "import numpy as np\n",
        "\n",
        "def volMasseEllipsoide(a,b,c,d):\n",
        "  v=(4/3)*np.pi*a*b*c\n",
        "  m=d*v*1000\n",
        "  _tuple_=(v,m)\n",
        "  return(_tuple_)\n",
        "volMasseEllipsoide(1,2,3,2)\n"
      ],
      "execution_count": 64,
      "outputs": [
        {
          "output_type": "execute_result",
          "data": {
            "text/plain": [
              "(25.132741228718345, 50.26548245743669)"
            ]
          },
          "metadata": {
            "tags": []
          },
          "execution_count": 64
        }
      ]
    },
    {
      "cell_type": "markdown",
      "metadata": {
        "id": "q1oZGkb_MQsd",
        "colab_type": "text"
      },
      "source": [
        "#### Exercice 4\n",
        "\n",
        "Define the list: list = [17, 38, 10, 25, 72], then do the following:\n",
        "\n",
        "1. sort and display the list;\n",
        "- add item 12 to the list and display the list;\n",
        "- reverse and display the list;\n",
        "- display the index of element 17;\n",
        "- remove item 38 and display the list;\n",
        "- display the sub-list of the 2nd and 3rd elements;\n",
        "- display the sub-list from the beginning to the 2nd element;\n",
        "- display the sub-list from the 3rd element to the end of the list;\n",
        "- display the complete sublist of the list;\n",
        "- display the last element of the list."
      ]
    },
    {
      "cell_type": "code",
      "metadata": {
        "id": "mGijH4hrHpfc",
        "colab_type": "code",
        "colab": {
          "base_uri": "https://localhost:8080/",
          "height": 193
        },
        "outputId": "f0b70cfb-0812-4d98-e97b-dad2b968eab5"
      },
      "source": [
        "#exo4\n",
        "\n",
        "List=[17, 38, 10, 25, 72]\n",
        "List.sort()\n",
        "print(List)\n",
        "\n",
        "List.append(12)\n",
        "print(List)\n",
        "\n",
        "List.reverse()\n",
        "print(List)\n",
        "\n",
        "print(List.index(17))\n",
        "\n",
        "List.pop(List.index(38))\n",
        "print(List)\n",
        "\n",
        "List_sub=List[1:3]\n",
        "print(List_sub)\n",
        "\n",
        "List_sub2=List[1:]\n",
        "print(List_sub2)\n",
        "\n",
        "List_sub3=List[2:]\n",
        "print(List_sub3)\n",
        "\n",
        "List_sub4=List[:]\n",
        "print(List_sub4)\n",
        "\n",
        "List_sub5=List[-1]\n",
        "print(List_sub5)"
      ],
      "execution_count": 76,
      "outputs": [
        {
          "output_type": "stream",
          "text": [
            "[10, 17, 25, 38, 72]\n",
            "[10, 17, 25, 38, 72, 12]\n",
            "[12, 72, 38, 25, 17, 10]\n",
            "4\n",
            "[12, 72, 25, 17, 10]\n",
            "[72, 25]\n",
            "[72, 25, 17, 10]\n",
            "[25, 17, 10]\n",
            "[12, 72, 25, 17, 10]\n",
            "10\n"
          ],
          "name": "stdout"
        }
      ]
    }
  ]
}